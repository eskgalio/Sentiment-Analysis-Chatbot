{
 "cells": [
  {
   "cell_type": "code",
   "execution_count": 9,
   "id": "7624b3c6-68f3-4621-a208-f753b52f06be",
   "metadata": {},
   "outputs": [],
   "source": [
    "import pandas as pd\n",
    "import numpy as np\n",
    "import matplotlib.pyplot as plt\n",
    "import seaborn as sns\n",
    "import re\n",
    "from sklearn.model_selection import train_test_split\n",
    "from sklearn.feature_extraction.text import TfidfVectorizer\n",
    "from sklearn.naive_bayes import MultinomialNB\n",
    "from sklearn.linear_model import LogisticRegression\n",
    "from sklearn.ensemble import RandomForestClassifier\n",
    "from sklearn.metrics import accuracy_score, classification_report, confusion_matrix"
   ]
  },
  {
   "cell_type": "code",
   "execution_count": 13,
   "id": "276aa406-cad2-422e-9cb3-268a72ac5798",
   "metadata": {},
   "outputs": [
    {
     "name": "stdout",
     "output_type": "stream",
     "text": [
      "                                           statement   status  \\\n",
      "0                                         oh my gosh  Anxiety   \n",
      "1  trouble sleeping, confused mind, restless hear...  Anxiety   \n",
      "2  All wrong, back off dear, forward doubt. Stay ...  Anxiety   \n",
      "3  I've shifted my focus to something else but I'...  Anxiety   \n",
      "4  I'm restless and restless, it's been a month n...  Anxiety   \n",
      "\n",
      "                                   cleaned_statement  \n",
      "0                                         oh my gosh  \n",
      "1  trouble sleeping confused mind restless heart ...  \n",
      "2  all wrong back off dear forward doubt stay in ...  \n",
      "3  i ve shifted my focus to something else but i ...  \n",
      "4  i m restless and restless it s been a month no...  \n",
      "status\n",
      "Normal                  16343\n",
      "Depression              15404\n",
      "Suicidal                10652\n",
      "Anxiety                  3841\n",
      "Bipolar                  2777\n",
      "Stress                   2587\n",
      "Personality disorder     1077\n",
      "Name: count, dtype: int64\n"
     ]
    }
   ],
   "source": [
    "# Load dataset\n",
    "df = pd.read_csv(\"SentimentData.csv\")  # Replace with actual file path\n",
    "\n",
    "# Drop unnecessary columns\n",
    "df = df[['statement', 'status']].dropna()\n",
    "\n",
    "# Basic text preprocessing\n",
    "def clean_text(text):\n",
    "    text = text.lower()  # Lowercase\n",
    "    text = re.sub(r'\\W', ' ', text)  # Remove special characters\n",
    "    text = re.sub(r'\\s+', ' ', text)  # Remove extra spaces\n",
    "    return text.strip()\n",
    "\n",
    "df['cleaned_statement'] = df['statement'].apply(clean_text)\n",
    "\n",
    "# Display dataset info\n",
    "print(df.head())\n",
    "print(df['status'].value_counts())  # Check class distribution"
   ]
  },
  {
   "cell_type": "code",
   "execution_count": 16,
   "id": "59bec874-a6bb-4da8-a2d1-84f5c4c495c2",
   "metadata": {},
   "outputs": [],
   "source": [
    "# Split dataset into train-test\n",
    "X_train, X_test, y_train, y_test = train_test_split(df['cleaned_statement'], df['status'], test_size=0.2, random_state=42)\n",
    "\n",
    "# Convert text to numerical representation (TF-IDF)\n",
    "vectorizer = TfidfVectorizer(max_features=5000)  # Limit features for efficiency\n",
    "X_train_tfidf = vectorizer.fit_transform(X_train)\n",
    "X_test_tfidf = vectorizer.transform(X_test)"
   ]
  },
  {
   "cell_type": "code",
   "execution_count": 18,
   "id": "e79bbfd3-2a50-4ad7-9577-84a993ffbcf2",
   "metadata": {},
   "outputs": [
    {
     "name": "stdout",
     "output_type": "stream",
     "text": [
      "Naïve Bayes Accuracy: 0.6632817690044605\n",
      "                      precision    recall  f1-score   support\n",
      "\n",
      "             Anxiety       0.83      0.59      0.69       755\n",
      "             Bipolar       0.90      0.39      0.54       527\n",
      "          Depression       0.49      0.81      0.61      3016\n",
      "              Normal       0.85      0.80      0.83      3308\n",
      "Personality disorder       0.89      0.07      0.13       237\n",
      "              Stress       0.88      0.11      0.19       536\n",
      "            Suicidal       0.73      0.53      0.62      2158\n",
      "\n",
      "            accuracy                           0.66     10537\n",
      "           macro avg       0.80      0.47      0.52     10537\n",
      "        weighted avg       0.73      0.66      0.65     10537\n",
      "\n"
     ]
    }
   ],
   "source": [
    "nb_model = MultinomialNB()\n",
    "nb_model.fit(X_train_tfidf, y_train)\n",
    "y_pred_nb = nb_model.predict(X_test_tfidf)\n",
    "\n",
    "print(\"Naïve Bayes Accuracy:\", accuracy_score(y_test, y_pred_nb))\n",
    "print(classification_report(y_test, y_pred_nb))"
   ]
  },
  {
   "cell_type": "code",
   "execution_count": 20,
   "id": "64091a86-613e-45e0-84fd-bcce508fb95c",
   "metadata": {},
   "outputs": [
    {
     "name": "stdout",
     "output_type": "stream",
     "text": [
      "Logistic Regression Accuracy: 0.7728955110562779\n",
      "                      precision    recall  f1-score   support\n",
      "\n",
      "             Anxiety       0.82      0.76      0.79       755\n",
      "             Bipolar       0.88      0.70      0.78       527\n",
      "          Depression       0.69      0.74      0.72      3016\n",
      "              Normal       0.86      0.95      0.91      3308\n",
      "Personality disorder       0.87      0.44      0.59       237\n",
      "              Stress       0.71      0.50      0.59       536\n",
      "            Suicidal       0.70      0.67      0.69      2158\n",
      "\n",
      "            accuracy                           0.77     10537\n",
      "           macro avg       0.79      0.68      0.72     10537\n",
      "        weighted avg       0.77      0.77      0.77     10537\n",
      "\n"
     ]
    }
   ],
   "source": [
    "lr_model = LogisticRegression(max_iter=500)\n",
    "lr_model.fit(X_train_tfidf, y_train)\n",
    "y_pred_lr = lr_model.predict(X_test_tfidf)\n",
    "\n",
    "print(\"Logistic Regression Accuracy:\", accuracy_score(y_test, y_pred_lr))\n",
    "print(classification_report(y_test, y_pred_lr))"
   ]
  },
  {
   "cell_type": "code",
   "execution_count": 22,
   "id": "13571ec1-03ce-4be2-b430-aefe54418a9f",
   "metadata": {},
   "outputs": [
    {
     "name": "stdout",
     "output_type": "stream",
     "text": [
      "Random Forest Accuracy: 0.7059884217519218\n",
      "                      precision    recall  f1-score   support\n",
      "\n",
      "             Anxiety       0.89      0.54      0.67       755\n",
      "             Bipolar       0.97      0.44      0.60       527\n",
      "          Depression       0.55      0.81      0.66      3016\n",
      "              Normal       0.84      0.95      0.89      3308\n",
      "Personality disorder       0.99      0.28      0.44       237\n",
      "              Stress       0.98      0.24      0.39       536\n",
      "            Suicidal       0.72      0.47      0.57      2158\n",
      "\n",
      "            accuracy                           0.71     10537\n",
      "           macro avg       0.85      0.53      0.60     10537\n",
      "        weighted avg       0.75      0.71      0.69     10537\n",
      "\n"
     ]
    }
   ],
   "source": [
    "rf_model = RandomForestClassifier(n_estimators=100, random_state=42)\n",
    "rf_model.fit(X_train_tfidf, y_train)\n",
    "y_pred_rf = rf_model.predict(X_test_tfidf)\n",
    "\n",
    "print(\"Random Forest Accuracy:\", accuracy_score(y_test, y_pred_rf))\n",
    "print(classification_report(y_test, y_pred_rf))"
   ]
  },
  {
   "cell_type": "code",
   "execution_count": 24,
   "id": "491abd41-d6ce-49ed-91b6-e47c16a6e9d7",
   "metadata": {},
   "outputs": [
    {
     "name": "stderr",
     "output_type": "stream",
     "text": [
      "C:\\Users\\abcd\\AppData\\Local\\Temp\\ipykernel_4080\\2972276279.py:10: FutureWarning: \n",
      "\n",
      "Passing `palette` without assigning `hue` is deprecated and will be removed in v0.14.0. Assign the `x` variable to `hue` and set `legend=False` for the same effect.\n",
      "\n",
      "  sns.barplot(x=list(accuracy_scores.keys()), y=list(accuracy_scores.values()), palette=\"coolwarm\")\n"
     ]
    },
    {
     "data": {
      "image/png": "[encoded data removed]",
      "text/plain": [
       "<Figure size 800x500 with 1 Axes>"
      ]
     },
     "metadata": {},
     "output_type": "display_data"
    }
   ],
   "source": [
    "# Compare model accuracies\n",
    "accuracy_scores = {\n",
    "    \"Naïve Bayes\": accuracy_score(y_test, y_pred_nb),\n",
    "    \"Logistic Regression\": accuracy_score(y_test, y_pred_lr),\n",
    "    \"Random Forest\": accuracy_score(y_test, y_pred_rf)\n",
    "}\n",
    "\n",
    "# Plot results\n",
    "plt.figure(figsize=(8, 5))\n",
    "sns.barplot(x=list(accuracy_scores.keys()), y=list(accuracy_scores.values()), palette=\"coolwarm\")\n",
    "plt.xlabel(\"Model\")\n",
    "plt.ylabel(\"Accuracy\")\n",
    "plt.title(\"Model Performance Comparison\")\n",
    "plt.show()"
   ]
  },
  {
   "cell_type": "code",
   "execution_count": 26,
   "id": "80bddae2-a6d5-4591-af9e-7025e7bce3e6",
   "metadata": {},
   "outputs": [
    {
     "name": "stdout",
     "output_type": "stream",
     "text": [
      "Predicted Emotion: Depression\n"
     ]
    }
   ],
   "source": [
    "def predict_emotion(text, model):\n",
    "    text = clean_text(text)\n",
    "    text_tfidf = vectorizer.transform([text])\n",
    "    prediction = model.predict(text_tfidf)\n",
    "    return prediction[0]\n",
    "\n",
    "# Test example\n",
    "sample_text = \"I feel so lost and alone.\"\n",
    "predicted_emotion = predict_emotion(sample_text, lr_model)  # Using best model (Logistic Regression)\n",
    "print(f\"Predicted Emotion: {predicted_emotion}\")"
   ]
  }
 ],
 "metadata": {
  "kernelspec": {
   "display_name": "Python 3 (ipykernel)",
   "language": "python",
   "name": "python3"
  },
  "language_info": {
   "codemirror_mode": {
    "name": "ipython",
    "version": 3
   },
   "file_extension": ".py",
   "mimetype": "text/x-python",
   "name": "python",
   "nbconvert_exporter": "python",
   "pygments_lexer": "ipython3",
   "version": "3.12.4"
  }
 },
 "nbformat": 4,
 "nbformat_minor": 5
}
