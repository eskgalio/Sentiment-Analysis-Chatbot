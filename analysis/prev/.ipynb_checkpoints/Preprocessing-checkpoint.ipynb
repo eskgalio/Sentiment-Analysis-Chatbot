{
 "cells": [
  {
   "cell_type": "code",
   "execution_count": 1,
   "id": "c681ea93-0e77-498e-a2d9-e960992f71fb",
   "metadata": {},
   "outputs": [],
   "source": [
    "import pandas as pd\n",
    "import numpy as np\n",
    "import re\n",
    "from sklearn.model_selection import train_test_split\n",
    "from sklearn.feature_extraction.text import TfidfVectorizer\n",
    "from sklearn.preprocessing import LabelEncoder\n",
    "import pickle"
   ]
  },
  {
   "cell_type": "code",
   "execution_count": 3,
   "id": "aed508f1-70e0-4c75-b0fd-9037eddfa96c",
   "metadata": {},
   "outputs": [],
   "source": [
    "# Load dataset\n",
    "file_path = \"SentimentData.csv\"\n",
    "df = pd.read_csv(file_path)"
   ]
  },
  {
   "cell_type": "code",
   "execution_count": 5,
   "id": "52a31399-581c-4c8f-a4ab-bd5560981c98",
   "metadata": {},
   "outputs": [],
   "source": [
    "# Drop unnecessary columns and handle missing values\n",
    "df = df.dropna(subset=['statement', 'status'])"
   ]
  },
  {
   "cell_type": "code",
   "execution_count": 7,
   "id": "a0f810ee-1a96-4e2f-9926-8f1c2b4d3d55",
   "metadata": {},
   "outputs": [],
   "source": [
    "# Text cleaning function\n",
    "def clean_text(text):\n",
    "    text = text.lower()  # Convert to lowercase\n",
    "    text = re.sub(r'\\W', ' ', text)  # Remove special characters\n",
    "    text = re.sub(r'\\s+', ' ', text).strip()  # Remove extra spaces\n",
    "    return text\n",
    "\n",
    "# Apply text cleaning\n",
    "df['cleaned_statement'] = df['statement'].astype(str).apply(clean_text)"
   ]
  },
  {
   "cell_type": "code",
   "execution_count": 9,
   "id": "b9620564-b991-4b7c-a9a9-0d44cc645ea9",
   "metadata": {},
   "outputs": [],
   "source": [
    "# Feature Engineering: Add text length and word count\n",
    "df['text_length'] = df['cleaned_statement'].apply(len)\n",
    "df['word_count'] = df['cleaned_statement'].apply(lambda x: len(x.split()))"
   ]
  },
  {
   "cell_type": "code",
   "execution_count": 11,
   "id": "b583360b-3113-4f99-a972-789a727007d5",
   "metadata": {},
   "outputs": [],
   "source": [
    "# Label Encoding for target variable\n",
    "label_encoder = LabelEncoder()\n",
    "df['encoded_status'] = label_encoder.fit_transform(df['status'].astype(str))"
   ]
  },
  {
   "cell_type": "code",
   "execution_count": 13,
   "id": "6db5c5e6-a339-4ab9-8fee-48684c573cbb",
   "metadata": {},
   "outputs": [],
   "source": [
    "# Train-Test Split\n",
    "X_train, X_test, y_train, y_test = train_test_split(df['cleaned_statement'], df['encoded_status'], test_size=0.2, random_state=42)"
   ]
  },
  {
   "cell_type": "code",
   "execution_count": 15,
   "id": "86b610f3-589f-4f6a-a4db-be41606a178b",
   "metadata": {},
   "outputs": [],
   "source": [
    "# TF-IDF Vectorization (for ML models)\n",
    "tfidf_vectorizer = TfidfVectorizer(max_features=5000)\n",
    "X_train_tfidf = tfidf_vectorizer.fit_transform(X_train)\n",
    "X_test_tfidf = tfidf_vectorizer.transform(X_test)"
   ]
  },
  {
   "cell_type": "code",
   "execution_count": 17,
   "id": "a587014d-a6d2-40a3-8332-2120d4861f95",
   "metadata": {},
   "outputs": [],
   "source": [
    "# Save transformed dataset\n",
    "df.to_csv(\"Processed_SentimentData.csv\", index=False)"
   ]
  },
  {
   "cell_type": "code",
   "execution_count": 21,
   "id": "68b42535-5c9b-49be-98ad-13747a4e10d1",
   "metadata": {},
   "outputs": [],
   "source": [
    "# Save TF-IDF vectorizer and label encoder for future use\n",
    "with open(\"tfidf_vectorizer.pkl\", \"wb\") as tfidf_file:\n",
    "    pickle.dump(tfidf_vectorizer, tfidf_file)\n",
    "\n",
    "with open(\"label_encoder.pkl\", \"wb\") as label_file:\n",
    "    pickle.dump(label_encoder, label_file)"
   ]
  },
  {
   "cell_type": "code",
   "execution_count": 23,
   "id": "9501f4d2-0c1e-462d-a7de-75465546a3b5",
   "metadata": {},
   "outputs": [
    {
     "name": "stdout",
     "output_type": "stream",
     "text": [
      "Sample Processed Data:\n",
      "   Unnamed: 0                                          statement   status  \\\n",
      "0           0                                         oh my gosh  Anxiety   \n",
      "1           1  trouble sleeping, confused mind, restless hear...  Anxiety   \n",
      "2           2  All wrong, back off dear, forward doubt. Stay ...  Anxiety   \n",
      "3           3  I've shifted my focus to something else but I'...  Anxiety   \n",
      "4           4  I'm restless and restless, it's been a month n...  Anxiety   \n",
      "\n",
      "                                   cleaned_statement  text_length  word_count  \\\n",
      "0                                         oh my gosh           10           3   \n",
      "1  trouble sleeping confused mind restless heart ...           61          10   \n",
      "2  all wrong back off dear forward doubt stay in ...           75          14   \n",
      "3  i ve shifted my focus to something else but i ...           61          13   \n",
      "4  i m restless and restless it s been a month no...           68          16   \n",
      "\n",
      "   encoded_status  \n",
      "0               0  \n",
      "1               0  \n",
      "2               0  \n",
      "3               0  \n",
      "4               0  \n",
      "TF-IDF Shape: (42144, 5000) (10537, 5000)\n",
      "Data preprocessing complete. TF-IDF vectorizer and label encoder saved.\n"
     ]
    }
   ],
   "source": [
    "# Output transformed dataset sample and shapes of transformed data\n",
    "print(\"Sample Processed Data:\")\n",
    "print(df.head())\n",
    "print(\"TF-IDF Shape:\", X_train_tfidf.shape, X_test_tfidf.shape)\n",
    "print(\"Data preprocessing complete. TF-IDF vectorizer and label encoder saved.\")"
   ]
  },
  {
   "cell_type": "code",
   "execution_count": null,
   "id": "a89bc489-5beb-4e6a-8d6d-69c468c90b9c",
   "metadata": {},
   "outputs": [],
   "source": []
  }
 ],
 "metadata": {
  "kernelspec": {
   "display_name": "Python 3 (ipykernel)",
   "language": "python",
   "name": "python3"
  },
  "language_info": {
   "codemirror_mode": {
    "name": "ipython",
    "version": 3
   },
   "file_extension": ".py",
   "mimetype": "text/x-python",
   "name": "python",
   "nbconvert_exporter": "python",
   "pygments_lexer": "ipython3",
   "version": "3.12.4"
  }
 },
 "nbformat": 4,
 "nbformat_minor": 5
}
